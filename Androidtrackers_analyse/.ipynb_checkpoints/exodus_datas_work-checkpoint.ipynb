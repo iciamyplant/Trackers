{
 "cells": [
  {
   "cell_type": "code",
   "execution_count": 4,
   "id": "87a17766",
   "metadata": {},
   "outputs": [],
   "source": [
    "import pandas as pd"
   ]
  },
  {
   "cell_type": "code",
   "execution_count": 8,
   "id": "21dc9fe3",
   "metadata": {},
   "outputs": [],
   "source": [
    "df = pd.read_csv('./Data/EP_Data_Extended.csv', quotechar='\"', skipinitialspace=True, low_memory=False)"
   ]
  },
  {
   "cell_type": "code",
   "execution_count": 9,
   "id": "0fbead10",
   "metadata": {},
   "outputs": [
    {
     "name": "stdout",
     "output_type": "stream",
     "text": [
      "        DataSetId                                             handle  \\\n",
      "0           59331                                    com.semitan.tan   \n",
      "1          179451                            com.allocine.androidapp   \n",
      "2           30893                           com.frostnerd.dnschanger   \n",
      "3          103627  com.fullsix.android.labanquepostale.accountaccess   \n",
      "4          148726                                      fr.axa.monaxa   \n",
      "...           ...                                                ...   \n",
      "195302     152665                    com.iudesk.android.photo.editor   \n",
      "195303     120538                                      org.wikipedia   \n",
      "195304     170623                            com.mobidia.android.mdm   \n",
      "195305     183270                                   com.metago.astro   \n",
      "195306     136354                             net.slickdeals.android   \n",
      "\n",
      "                                      app_name                   created  \\\n",
      "0                                          Tan  2017-11-12T17:14:58.648Z   \n",
      "1                                     AlloCine  2017-11-12T18:04:06.143Z   \n",
      "2       DNS Changer (No Root - IPv6 - 3G/wifi)  2017-11-12T18:28:10.177Z   \n",
      "3                            La Banque Postale  2017-11-12T18:29:27.365Z   \n",
      "4                                      Mon AXA  2017-11-12T18:35:01.067Z   \n",
      "...                                        ...                       ...   \n",
      "195302                            Photo Editor  2021-10-06T21:35:12.311Z   \n",
      "195303                               Wikipedia  2021-10-06T21:49:39.300Z   \n",
      "195304                         My Data Manager  2021-10-06T23:39:48.849Z   \n",
      "195305                      ASTRO File Manager  2021-10-06T23:41:58.312Z   \n",
      "195306                              Slickdeals  2021-10-06T23:44:08.888Z   \n",
      "\n",
      "       version_code    report            creator     eventtime  \\\n",
      "0                39       1.0         Réseau Tan  1.826130e+12   \n",
      "1                88       2.0           AlloCiné  1.826130e+12   \n",
      "2                59       3.0      Frostnerd.com  1.826130e+12   \n",
      "3         507000015       4.0  La Banque Postale  1.826130e+12   \n",
      "4           4020016       5.0         AXA France  1.826130e+12   \n",
      "...             ...       ...                ...           ...   \n",
      "195302   2021092900  204223.0                NaN  1.949180e+12   \n",
      "195303        50377  204236.0                NaN  1.949180e+12   \n",
      "195304   2021082311  204253.0                NaN  1.949180e+12   \n",
      "195305   2021091008  204255.0                NaN  1.949180e+12   \n",
      "195306         1264  204256.0                NaN  1.949180e+12   \n",
      "\n",
      "                                            uaid            version_name  ...  \\\n",
      "0       AF7AD3B98982DFEEBD235219D22671A2F5285670                   5.7.0  ...   \n",
      "1       582412146369AE098B04E69E1925A9C073D9BAF0                   3.3.5  ...   \n",
      "2       7D2491C7BD778BBCCAD1991551863DDD2991608B                  1.15.2  ...   \n",
      "3       65DCCFFA540F67CB4D95F9359A85139335973EE9                   5.7.0  ...   \n",
      "4       86CFF08DE65352FCD197E5B87FD5F8276139D6B7                     4.2  ...   \n",
      "...                                          ...                     ...  ...   \n",
      "195302  CDBEA467D85DEC2EFB74CF6A48E1E4829AB55D57                   7.0.2  ...   \n",
      "195303  0F1BA6187EB64E5FCDB152EDCCD099D64D18E94F  2.7.50377-r-2021-10-06  ...   \n",
      "195304  FFCB31665048618FBD474890D30DB00D7499E0F7                   9.4.0  ...   \n",
      "195305  457814E3164EFDDB3DC099CD28B4AD3D2A882757                   8.6.1  ...   \n",
      "195306  477A469E68ECA52800F4F97E28E4823DE3DBBC6B                  5.46.1  ...   \n",
      "\n",
      "       89  9 90 91 92 93 94  95  97  99  \n",
      "0       0  0  0  0  0  0  0   0   0   0  \n",
      "1       0  0  0  0  0  0  0   0   0   0  \n",
      "2       0  0  0  0  0  0  0   0   0   0  \n",
      "3       0  0  0  0  0  0  0   0   0   0  \n",
      "4       0  0  0  0  0  0  0   0   0   0  \n",
      "...    .. .. .. .. .. .. ..  ..  ..  ..  \n",
      "195302  0  0  0  0  0  0  0   0   0   0  \n",
      "195303  0  0  0  0  0  0  0   0   0   0  \n",
      "195304  0  0  0  0  0  0  0   0   0   0  \n",
      "195305  0  0  0  0  0  0  0   0   0   0  \n",
      "195306  0  0  0  0  1  0  0   0   0   0  \n",
      "\n",
      "[195307 rows x 513 columns]\n"
     ]
    }
   ],
   "source": [
    "print(df)"
   ]
  },
  {
   "cell_type": "code",
   "execution_count": 10,
   "id": "23cd37d7",
   "metadata": {},
   "outputs": [
    {
     "data": {
      "text/plain": [
       "Index(['DataSetId', 'handle', 'app_name', 'created', 'version_code', 'report',\n",
       "       'creator', 'eventtime', 'uaid', 'version_name',\n",
       "       ...\n",
       "       '89', '9', '90', '91', '92', '93', '94', '95', '97', '99'],\n",
       "      dtype='object', length=513)"
      ]
     },
     "execution_count": 10,
     "metadata": {},
     "output_type": "execute_result"
    }
   ],
   "source": [
    "df.columns"
   ]
  },
  {
   "cell_type": "code",
   "execution_count": null,
   "id": "260ab902",
   "metadata": {},
   "outputs": [],
   "source": []
  },
  {
   "cell_type": "code",
   "execution_count": null,
   "id": "ac348be6",
   "metadata": {},
   "outputs": [],
   "source": []
  },
  {
   "cell_type": "code",
   "execution_count": null,
   "id": "0f98bf22",
   "metadata": {},
   "outputs": [],
   "source": []
  },
  {
   "cell_type": "code",
   "execution_count": null,
   "id": "e45263f3",
   "metadata": {},
   "outputs": [],
   "source": []
  }
 ],
 "metadata": {
  "kernelspec": {
   "display_name": "Python 3",
   "language": "python",
   "name": "python3"
  },
  "language_info": {
   "codemirror_mode": {
    "name": "ipython",
    "version": 3
   },
   "file_extension": ".py",
   "mimetype": "text/x-python",
   "name": "python",
   "nbconvert_exporter": "python",
   "pygments_lexer": "ipython3",
   "version": "3.8.8"
  }
 },
 "nbformat": 4,
 "nbformat_minor": 5
}
